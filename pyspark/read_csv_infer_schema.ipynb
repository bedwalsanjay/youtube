{
 "cells": [
  {
   "cell_type": "markdown",
   "id": "7456af7d",
   "metadata": {},
   "source": [
    "### create SparkSession"
   ]
  },
  {
   "cell_type": "code",
   "execution_count": 1,
   "id": "29ee879b",
   "metadata": {},
   "outputs": [],
   "source": [
    "import findspark\n",
    "findspark.init()\n",
    "from pyspark.sql import SparkSession\n",
    "spark=SparkSession.builder.appName(\"spark_reads\").master(\"local[4]\").getOrCreate()"
   ]
  },
  {
   "cell_type": "markdown",
   "id": "2a86d64d",
   "metadata": {},
   "source": [
    "### defining path"
   ]
  },
  {
   "cell_type": "code",
   "execution_count": 18,
   "id": "9f752ab7",
   "metadata": {},
   "outputs": [
    {
     "name": "stdout",
     "output_type": "stream",
     "text": [
      "C:\\Users\\Sanjay Bedwal\\Desktop\\practice\\spark\\files\\csv\\input\\order1.csv\n",
      "C:\\Users\\Sanjay Bedwal\\Desktop\\practice\\spark\\files\\csv\\input\n"
     ]
    }
   ],
   "source": [
    "csv_file_path=r'C:\\Users\\Sanjay Bedwal\\Desktop\\practice\\spark\\files\\csv\\input\\order1.csv'\n",
    "csv_files_path=r'C:\\Users\\Sanjay Bedwal\\Desktop\\practice\\spark\\files\\csv\\input'\n",
    "#csv_output_path=r'C:\\Users\\Sanjay Bedwal\\Desktop\\practice\\spark\\files\\csv\\output'\n",
    "print(csv_file_path)\n",
    "print(csv_files_path)\n",
    "#print(csv_output_path)"
   ]
  },
  {
   "cell_type": "markdown",
   "id": "6408d3f9",
   "metadata": {},
   "source": [
    "- reading csv file while skipping header option\n",
    "- using trancate option to show the complete content "
   ]
  },
  {
   "cell_type": "code",
   "execution_count": 19,
   "id": "fc52aa03",
   "metadata": {},
   "outputs": [
    {
     "name": "stdout",
     "output_type": "stream",
     "text": [
      "<class 'pyspark.sql.dataframe.DataFrame'>\n",
      "+--------+--------------------+-----------------+---------------+\n",
      "|     _c0|                 _c1|              _c2|            _c3|\n",
      "+--------+--------------------+-----------------+---------------+\n",
      "|order_id|          order_date|order_customer_id|   order_status|\n",
      "|       1|2013-07-25 00:00:...|            11599|         CLOSED|\n",
      "|       2|2013-07-25 00:00:...|              256|PENDING_PAYMENT|\n",
      "|       3|2013-07-25 00:00:...|            12111|       COMPLETE|\n",
      "|       4|2013-07-25 00:00:...|             8827|         CLOSED|\n",
      "|       5|2013-07-25 00:00:...|            11318|       COMPLETE|\n",
      "+--------+--------------------+-----------------+---------------+\n",
      "\n",
      "root\n",
      " |-- _c0: string (nullable = true)\n",
      " |-- _c1: string (nullable = true)\n",
      " |-- _c2: string (nullable = true)\n",
      " |-- _c3: string (nullable = true)\n",
      "\n"
     ]
    }
   ],
   "source": [
    "csv_df=spark.read.csv(csv_file_path)\n",
    "print(type(csv_df))\n",
    "csv_df.show()\n",
    "csv_df.printSchema()\n"
   ]
  },
  {
   "cell_type": "markdown",
   "id": "1dcaa8c4",
   "metadata": {},
   "source": [
    "### reading csv file with header option enabled"
   ]
  },
  {
   "cell_type": "code",
   "execution_count": 23,
   "id": "94d36474",
   "metadata": {},
   "outputs": [
    {
     "name": "stdout",
     "output_type": "stream",
     "text": [
      "+--------+---------------------+-----------------+---------------+\n",
      "|order_id|order_date           |order_customer_id|order_status   |\n",
      "+--------+---------------------+-----------------+---------------+\n",
      "|1       |2013-07-25 00:00:00.0|11599            |CLOSED         |\n",
      "|2       |2013-07-25 00:00:00.0|256              |PENDING_PAYMENT|\n",
      "|3       |2013-07-25 00:00:00.0|12111            |COMPLETE       |\n",
      "+--------+---------------------+-----------------+---------------+\n",
      "only showing top 3 rows\n",
      "\n",
      "root\n",
      " |-- order_id: string (nullable = true)\n",
      " |-- order_date: string (nullable = true)\n",
      " |-- order_customer_id: string (nullable = true)\n",
      " |-- order_status: string (nullable = true)\n",
      "\n"
     ]
    }
   ],
   "source": [
    "csv_df=spark.read.option('header',True).csv(csv_file_path)\n",
    "csv_df.show(3,truncate=False)\n",
    "csv_df.printSchema()"
   ]
  },
  {
   "cell_type": "markdown",
   "id": "69287684",
   "metadata": {},
   "source": [
    "### infering the schema "
   ]
  },
  {
   "cell_type": "code",
   "execution_count": 25,
   "id": "013455ce",
   "metadata": {},
   "outputs": [
    {
     "name": "stdout",
     "output_type": "stream",
     "text": [
      "+--------+-------------------+-----------------+---------------+\n",
      "|order_id|order_date         |order_customer_id|order_status   |\n",
      "+--------+-------------------+-----------------+---------------+\n",
      "|1       |2013-07-25 00:00:00|11599            |CLOSED         |\n",
      "|2       |2013-07-25 00:00:00|256              |PENDING_PAYMENT|\n",
      "|3       |2013-07-25 00:00:00|12111            |COMPLETE       |\n",
      "|4       |2013-07-25 00:00:00|8827             |CLOSED         |\n",
      "|5       |2013-07-25 00:00:00|11318            |COMPLETE       |\n",
      "+--------+-------------------+-----------------+---------------+\n",
      "\n",
      "root\n",
      " |-- order_id: integer (nullable = true)\n",
      " |-- order_date: timestamp (nullable = true)\n",
      " |-- order_customer_id: integer (nullable = true)\n",
      " |-- order_status: string (nullable = true)\n",
      "\n"
     ]
    }
   ],
   "source": [
    "#csv_df=spark.read.option('header',True).option('inferSchema',True).csv(csv_file_path)\n",
    "csv_df=spark.read.options(header=True,inferSchema=True).csv(csv_file_path)\n",
    "csv_df.show(truncate=False)\n",
    "csv_df.printSchema()"
   ]
  },
  {
   "cell_type": "markdown",
   "id": "b0cb96a2",
   "metadata": {},
   "source": [
    "### reading the whole folder"
   ]
  },
  {
   "cell_type": "code",
   "execution_count": 26,
   "id": "0418609b",
   "metadata": {},
   "outputs": [
    {
     "name": "stdout",
     "output_type": "stream",
     "text": [
      "+--------+---------------------+-----------------+---------------+\n",
      "|order_id|order_date           |order_customer_id|order_status   |\n",
      "+--------+---------------------+-----------------+---------------+\n",
      "|6       |2013-07-25 00:00:00.0|7130             |COMPLETE       |\n",
      "|7       |2013-07-25 00:00:00.0|4530             |COMPLETE       |\n",
      "|8       |2013-07-25 00:00:00.0|2911             |PROCESSING     |\n",
      "|9       |2013-07-25 00:00:00.0|5657             |PENDING_PAYMENT|\n",
      "|10      |2013-07-25 00:00:00.0|5648             |PENDING_PAYMENT|\n",
      "|1       |2013-07-25 00:00:00.0|11599            |CLOSED         |\n",
      "|2       |2013-07-25 00:00:00.0|256              |PENDING_PAYMENT|\n",
      "|3       |2013-07-25 00:00:00.0|12111            |COMPLETE       |\n",
      "|4       |2013-07-25 00:00:00.0|8827             |CLOSED         |\n",
      "|5       |2013-07-25 00:00:00.0|11318            |COMPLETE       |\n",
      "+--------+---------------------+-----------------+---------------+\n",
      "\n",
      "root\n",
      " |-- order_id: string (nullable = true)\n",
      " |-- order_date: string (nullable = true)\n",
      " |-- order_customer_id: string (nullable = true)\n",
      " |-- order_status: string (nullable = true)\n",
      "\n"
     ]
    },
    {
     "data": {
      "text/plain": [
       "2"
      ]
     },
     "execution_count": 26,
     "metadata": {},
     "output_type": "execute_result"
    }
   ],
   "source": [
    "csv_df=spark.read.option('header',True).csv(csv_files_path)\n",
    "csv_df.show(truncate=False)\n",
    "csv_df.printSchema()\n",
    "csv_df.rdd.getNumPartitions()\n",
    "#csv_df.write.csv(csv_output_path)"
   ]
  }
 ],
 "metadata": {
  "kernelspec": {
   "display_name": "Python 3",
   "language": "python",
   "name": "python3"
  },
  "language_info": {
   "codemirror_mode": {
    "name": "ipython",
    "version": 3
   },
   "file_extension": ".py",
   "mimetype": "text/x-python",
   "name": "python",
   "nbconvert_exporter": "python",
   "pygments_lexer": "ipython3",
   "version": "3.8.8"
  }
 },
 "nbformat": 4,
 "nbformat_minor": 5
}
